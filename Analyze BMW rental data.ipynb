{
 "cells": [
  {
   "cell_type": "code",
   "execution_count": 1,
   "id": "2090aff8",
   "metadata": {},
   "outputs": [],
   "source": [
    "import numpy as np\n",
    "import pandas as pd\n",
    "import matplotlib.pyplot as plt"
   ]
  },
  {
   "cell_type": "code",
   "execution_count": 2,
   "id": "35dfb49b",
   "metadata": {},
   "outputs": [],
   "source": [
    "bmw = pd.read_csv('./bmw.csv')"
   ]
  },
  {
   "cell_type": "code",
   "execution_count": 3,
   "id": "1ab9df6d",
   "metadata": {},
   "outputs": [
    {
     "data": {
      "text/html": [
       "<div>\n",
       "<style scoped>\n",
       "    .dataframe tbody tr th:only-of-type {\n",
       "        vertical-align: middle;\n",
       "    }\n",
       "\n",
       "    .dataframe tbody tr th {\n",
       "        vertical-align: top;\n",
       "    }\n",
       "\n",
       "    .dataframe thead th {\n",
       "        text-align: right;\n",
       "    }\n",
       "</style>\n",
       "<table border=\"1\" class=\"dataframe\">\n",
       "  <thead>\n",
       "    <tr style=\"text-align: right;\">\n",
       "      <th></th>\n",
       "      <th>Vehicle Name</th>\n",
       "      <th>Trip Started</th>\n",
       "      <th>Trip Ended</th>\n",
       "      <th>Trip Distance</th>\n",
       "      <th>Trip Duration</th>\n",
       "      <th>AverageMPG</th>\n",
       "      <th>Fuel Cost</th>\n",
       "      <th>Fuel Vol (gal)</th>\n",
       "      <th>Hard Brake</th>\n",
       "      <th>Hard Accel</th>\n",
       "      <th>&gt;70 MPH</th>\n",
       "      <th>&gt;75 MPH</th>\n",
       "      <th>&gt;80 MPH</th>\n",
       "      <th>Trip Map</th>\n",
       "      <th>Start Lon</th>\n",
       "      <th>Start Lat</th>\n",
       "      <th>Start Map</th>\n",
       "      <th>End Lat</th>\n",
       "      <th>End Lon</th>\n",
       "      <th>End Map</th>\n",
       "    </tr>\n",
       "  </thead>\n",
       "  <tbody>\n",
       "    <tr>\n",
       "      <th>0</th>\n",
       "      <td>BMW 328i</td>\n",
       "      <td>May 01, 2014 at 09:36AM</td>\n",
       "      <td>May 01, 2014 at 09:44AM</td>\n",
       "      <td>2.11</td>\n",
       "      <td>0:07</td>\n",
       "      <td>16.55</td>\n",
       "      <td>$0.48</td>\n",
       "      <td>0.13</td>\n",
       "      <td>1.0</td>\n",
       "      <td>0.0</td>\n",
       "      <td>0.0</td>\n",
       "      <td>0.0</td>\n",
       "      <td>0.0</td>\n",
       "      <td>http://ift.tt/1nLXuuE</td>\n",
       "      <td>-77.524838</td>\n",
       "      <td>38.995414</td>\n",
       "      <td>http://ift.tt/1rIQgoT</td>\n",
       "      <td>-77.476153</td>\n",
       "      <td>39.004031</td>\n",
       "      <td>http://ift.tt/1rIQgoX</td>\n",
       "    </tr>\n",
       "    <tr>\n",
       "      <th>1</th>\n",
       "      <td>BMW 328i</td>\n",
       "      <td>May 01, 2014 at 09:44AM</td>\n",
       "      <td>May 01, 2014 at 10:08AM</td>\n",
       "      <td>7.86</td>\n",
       "      <td>0:24</td>\n",
       "      <td>21.25</td>\n",
       "      <td>$1.39</td>\n",
       "      <td>0.37</td>\n",
       "      <td>0.0</td>\n",
       "      <td>1.0</td>\n",
       "      <td>0.0</td>\n",
       "      <td>0.0</td>\n",
       "      <td>0.0</td>\n",
       "      <td>http://ift.tt/1nM2waH</td>\n",
       "      <td>-77.476153</td>\n",
       "      <td>39.004031</td>\n",
       "      <td>http://ift.tt/1rIQgoX</td>\n",
       "      <td>-77.395742</td>\n",
       "      <td>38.955988</td>\n",
       "      <td>http://ift.tt/1isEv2i</td>\n",
       "    </tr>\n",
       "    <tr>\n",
       "      <th>2</th>\n",
       "      <td>BMW 328i</td>\n",
       "      <td>May 01, 2014 at 05:51PM</td>\n",
       "      <td>May 01, 2014 at 06:34PM</td>\n",
       "      <td>14.35</td>\n",
       "      <td>0:42</td>\n",
       "      <td>20.38</td>\n",
       "      <td>$2.50</td>\n",
       "      <td>0.66</td>\n",
       "      <td>1.0</td>\n",
       "      <td>0.0</td>\n",
       "      <td>0.0</td>\n",
       "      <td>0.0</td>\n",
       "      <td>0.0</td>\n",
       "      <td>http://ift.tt/1nNR5PL</td>\n",
       "      <td>-77.395742</td>\n",
       "      <td>38.955988</td>\n",
       "      <td>http://ift.tt/1isEv2i</td>\n",
       "      <td>-77.524838</td>\n",
       "      <td>38.995414</td>\n",
       "      <td>http://ift.tt/1rIQgoT</td>\n",
       "    </tr>\n",
       "    <tr>\n",
       "      <th>3</th>\n",
       "      <td>BMW 328i</td>\n",
       "      <td>May 01, 2014 at 06:45PM</td>\n",
       "      <td>May 01, 2014 at 06:52PM</td>\n",
       "      <td>1.55</td>\n",
       "      <td>0:07</td>\n",
       "      <td>13.49</td>\n",
       "      <td>$0.42</td>\n",
       "      <td>0.11</td>\n",
       "      <td>0.0</td>\n",
       "      <td>1.0</td>\n",
       "      <td>0.0</td>\n",
       "      <td>0.0</td>\n",
       "      <td>0.0</td>\n",
       "      <td>http://ift.tt/1i3lsJY</td>\n",
       "      <td>-77.524838</td>\n",
       "      <td>38.995414</td>\n",
       "      <td>http://ift.tt/1rIQgoT</td>\n",
       "      <td>-77.537084</td>\n",
       "      <td>38.985018</td>\n",
       "      <td>http://ift.tt/1iOUif3</td>\n",
       "    </tr>\n",
       "    <tr>\n",
       "      <th>4</th>\n",
       "      <td>BMW 328i</td>\n",
       "      <td>May 01, 2014 at 08:00PM</td>\n",
       "      <td>May 01, 2014 at 08:07PM</td>\n",
       "      <td>1.65</td>\n",
       "      <td>0:07</td>\n",
       "      <td>13.37</td>\n",
       "      <td>$0.46</td>\n",
       "      <td>0.12</td>\n",
       "      <td>0.0</td>\n",
       "      <td>1.0</td>\n",
       "      <td>0.0</td>\n",
       "      <td>0.0</td>\n",
       "      <td>0.0</td>\n",
       "      <td>http://ift.tt/1nO4mYl</td>\n",
       "      <td>-77.537084</td>\n",
       "      <td>38.985018</td>\n",
       "      <td>http://ift.tt/1iOUif3</td>\n",
       "      <td>-77.524838</td>\n",
       "      <td>38.995414</td>\n",
       "      <td>http://ift.tt/1rIQgoT</td>\n",
       "    </tr>\n",
       "  </tbody>\n",
       "</table>\n",
       "</div>"
      ],
      "text/plain": [
       "  Vehicle Name             Trip Started               Trip Ended  \\\n",
       "0     BMW 328i  May 01, 2014 at 09:36AM  May 01, 2014 at 09:44AM   \n",
       "1     BMW 328i  May 01, 2014 at 09:44AM  May 01, 2014 at 10:08AM   \n",
       "2     BMW 328i  May 01, 2014 at 05:51PM  May 01, 2014 at 06:34PM   \n",
       "3     BMW 328i  May 01, 2014 at 06:45PM  May 01, 2014 at 06:52PM   \n",
       "4     BMW 328i  May 01, 2014 at 08:00PM  May 01, 2014 at 08:07PM   \n",
       "\n",
       "   Trip Distance Trip Duration  AverageMPG Fuel Cost  Fuel Vol (gal)  \\\n",
       "0           2.11          0:07       16.55     $0.48            0.13   \n",
       "1           7.86          0:24       21.25     $1.39            0.37   \n",
       "2          14.35          0:42       20.38     $2.50            0.66   \n",
       "3           1.55          0:07       13.49     $0.42            0.11   \n",
       "4           1.65          0:07       13.37     $0.46            0.12   \n",
       "\n",
       "   Hard Brake  Hard Accel  >70 MPH  >75 MPH  >80 MPH               Trip Map  \\\n",
       "0         1.0         0.0      0.0      0.0      0.0  http://ift.tt/1nLXuuE   \n",
       "1         0.0         1.0      0.0      0.0      0.0  http://ift.tt/1nM2waH   \n",
       "2         1.0         0.0      0.0      0.0      0.0  http://ift.tt/1nNR5PL   \n",
       "3         0.0         1.0      0.0      0.0      0.0  http://ift.tt/1i3lsJY   \n",
       "4         0.0         1.0      0.0      0.0      0.0  http://ift.tt/1nO4mYl   \n",
       "\n",
       "   Start Lon  Start Lat              Start Map    End Lat    End Lon  \\\n",
       "0 -77.524838  38.995414  http://ift.tt/1rIQgoT -77.476153  39.004031   \n",
       "1 -77.476153  39.004031  http://ift.tt/1rIQgoX -77.395742  38.955988   \n",
       "2 -77.395742  38.955988  http://ift.tt/1isEv2i -77.524838  38.995414   \n",
       "3 -77.524838  38.995414  http://ift.tt/1rIQgoT -77.537084  38.985018   \n",
       "4 -77.537084  38.985018  http://ift.tt/1iOUif3 -77.524838  38.995414   \n",
       "\n",
       "                 End Map  \n",
       "0  http://ift.tt/1rIQgoX  \n",
       "1  http://ift.tt/1isEv2i  \n",
       "2  http://ift.tt/1rIQgoT  \n",
       "3  http://ift.tt/1iOUif3  \n",
       "4  http://ift.tt/1rIQgoT  "
      ]
     },
     "execution_count": 3,
     "metadata": {},
     "output_type": "execute_result"
    }
   ],
   "source": [
    "# Clean data\n",
    "bmw = bmw.dropna()\n",
    "bmw.head()"
   ]
  },
  {
   "cell_type": "code",
   "execution_count": 4,
   "id": "c152419f",
   "metadata": {},
   "outputs": [],
   "source": [
    "# Put dates in date type\n",
    "bmw['Trip Started'] = bmw['Trip Started'].astype('datetime64')\n",
    "bmw['Trip Ended'] = bmw['Trip Started'].astype('datetime64')"
   ]
  },
  {
   "cell_type": "code",
   "execution_count": 6,
   "id": "9b3847f5",
   "metadata": {},
   "outputs": [
    {
     "data": {
      "text/plain": [
       "<AxesSubplot:title={'center':'Cars rent per month only'}, xlabel='Month', ylabel='Number of rent'>"
      ]
     },
     "execution_count": 6,
     "metadata": {},
     "output_type": "execute_result"
    },
    {
     "data": {
      "image/png": "[encoded data removed]",
      "text/plain": [
       "<Figure size 432x288 with 1 Axes>"
      ]
     },
     "metadata": {
      "needs_background": "light"
     },
     "output_type": "display_data"
    },
    {
     "data": {
      "image/png": "[encoded data removed]",
      "text/plain": [
       "<Figure size 432x288 with 1 Axes>"
      ]
     },
     "metadata": {
      "needs_background": "light"
     },
     "output_type": "display_data"
    }
   ],
   "source": [
    "# Get renting tendencies\n",
    "plt.figure()\n",
    "bmw_per_ym = bmw.groupby([bmw['Trip Started'].dt.year,bmw['Trip Started'].dt.month]).count()\n",
    "bmw_per_ym['Trip Started'].plot.bar(title=\"Cars rent per year and month\", xlabel='Date', ylabel='Number of rent')\n",
    "\n",
    "plt.figure()\n",
    "bmw_per_m = bmw.groupby(bmw['Trip Started'].dt.month).count()\n",
    "bmw_per_m['Trip Started'].plot.bar(title=\"Cars rent per month only\", xlabel='Month', ylabel='Number of rent')\n",
    "\n",
    "# More rent in October : we should increase the offer at this period (as an example)"
   ]
  },
  {
   "cell_type": "code",
   "execution_count": 6,
   "id": "e2ab5f19",
   "metadata": {},
   "outputs": [
    {
     "name": "stdout",
     "output_type": "stream",
     "text": [
      "Min renting time in minutes : 0\n",
      "Mean renting time in minutes : 17.6\n",
      "Max renting time in minutes : 237\n"
     ]
    }
   ],
   "source": [
    "# Get renting time stats\n",
    "bmw['Trip Duration'] = bmw['Trip Duration'].astype('datetime64')\n",
    "bmw_time_minutes = bmw['Trip Duration'].dt.hour*60 + bmw['Trip Duration'].dt.minute\n",
    "print(f\"Min renting time in minutes : {round(bmw_time_minutes.min(),1)}\")\n",
    "print(f\"Mean renting time in minutes : {round(bmw_time_minutes.mean(),1)}\")\n",
    "print(f\"Max renting time in minutes : {round(bmw_time_minutes.max(),1)}\")\n",
    "\n",
    "# High variancy"
   ]
  },
  {
   "cell_type": "code",
   "execution_count": 7,
   "id": "5a1bf4a2",
   "metadata": {},
   "outputs": [
    {
     "data": {
      "text/plain": [
       "count    1032.000000\n",
       "mean        7.075736\n",
       "std         9.413802\n",
       "min         0.010000\n",
       "25%         0.927500\n",
       "50%         6.885000\n",
       "75%        11.350000\n",
       "max       209.800000\n",
       "Name: Trip Distance, dtype: float64"
      ]
     },
     "execution_count": 7,
     "metadata": {},
     "output_type": "execute_result"
    }
   ],
   "source": [
    "# Get renting travel distance stats\n",
    "bmw['Trip Distance'].describe()"
   ]
  },
  {
   "cell_type": "code",
   "execution_count": 8,
   "id": "bdf9aa56",
   "metadata": {},
   "outputs": [
    {
     "data": {
      "text/plain": [
       "Text(0.5, 1.0, 'Relation between Trip Distance and Duration')"
      ]
     },
     "execution_count": 8,
     "metadata": {},
     "output_type": "execute_result"
    },
    {
     "data": {
      "image/png": "[encoded data removed]",
      "text/plain": [
       "<Figure size 432x288 with 1 Axes>"
      ]
     },
     "metadata": {
      "needs_background": "light"
     },
     "output_type": "display_data"
    }
   ],
   "source": [
    "# Getting correlation with Duration\n",
    "plt.plot(bmw['Trip Distance'].sort_values(), bmw_time_minutes.sort_values(), label='Duration = f(Distance)')\n",
    "plt.plot(bmw['Trip Distance'],bmw['Trip Distance'], '--', label='x=x')\n",
    "plt.xlabel('Trip Distance (minutes)')\n",
    "plt.ylabel('Trip Duration (minutes)')\n",
    "plt.legend()\n",
    "plt.title('Relation between Trip Distance and Duration')\n",
    "\n",
    "# The trip duration is relatively longer for medium distances : we should prior medium durations"
   ]
  }
 ],
 "metadata": {
  "kernelspec": {
   "display_name": "torch",
   "language": "python",
   "name": "torch"
  },
  "language_info": {
   "codemirror_mode": {
    "name": "ipython",
    "version": 3
   },
   "file_extension": ".py",
   "mimetype": "text/x-python",
   "name": "python",
   "nbconvert_exporter": "python",
   "pygments_lexer": "ipython3",
   "version": "3.8.11"
  }
 },
 "nbformat": 4,
 "nbformat_minor": 5
}
